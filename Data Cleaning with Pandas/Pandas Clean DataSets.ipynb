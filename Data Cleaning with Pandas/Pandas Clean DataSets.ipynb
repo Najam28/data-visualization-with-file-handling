{
 "cells": [
  {
   "cell_type": "code",
   "execution_count": 1,
   "id": "d6ca47a0",
   "metadata": {},
   "outputs": [
    {
     "data": {
      "text/html": [
       "<div>\n",
       "<style scoped>\n",
       "    .dataframe tbody tr th:only-of-type {\n",
       "        vertical-align: middle;\n",
       "    }\n",
       "\n",
       "    .dataframe tbody tr th {\n",
       "        vertical-align: top;\n",
       "    }\n",
       "\n",
       "    .dataframe thead th {\n",
       "        text-align: right;\n",
       "    }\n",
       "</style>\n",
       "<table border=\"1\" class=\"dataframe\">\n",
       "  <thead>\n",
       "    <tr style=\"text-align: right;\">\n",
       "      <th></th>\n",
       "      <th>Index</th>\n",
       "      <th>School ID</th>\n",
       "      <th>Name</th>\n",
       "      <th>Address</th>\n",
       "      <th>City</th>\n",
       "      <th>Subject</th>\n",
       "      <th>Marks</th>\n",
       "      <th>Rank</th>\n",
       "      <th>Grade</th>\n",
       "    </tr>\n",
       "  </thead>\n",
       "  <tbody>\n",
       "    <tr>\n",
       "      <th>0</th>\n",
       "      <td>0</td>\n",
       "      <td>107</td>\n",
       "      <td>Ivy</td>\n",
       "      <td>456 Oak Ave</td>\n",
       "      <td>New York</td>\n",
       "      <td>History</td>\n",
       "      <td>86.1</td>\n",
       "      <td>8</td>\n",
       "      <td>B</td>\n",
       "    </tr>\n",
       "    <tr>\n",
       "      <th>1</th>\n",
       "      <td>1</td>\n",
       "      <td>108</td>\n",
       "      <td>Alice</td>\n",
       "      <td>555 Birch Dr</td>\n",
       "      <td>Houston</td>\n",
       "      <td>Science</td>\n",
       "      <td>96.1</td>\n",
       "      <td>7</td>\n",
       "      <td>D</td>\n",
       "    </tr>\n",
       "    <tr>\n",
       "      <th>2</th>\n",
       "      <td>2</td>\n",
       "      <td>105</td>\n",
       "      <td>Charlie</td>\n",
       "      <td>444 Cedar Blvd</td>\n",
       "      <td>Chicago</td>\n",
       "      <td>History</td>\n",
       "      <td>81.4</td>\n",
       "      <td>1</td>\n",
       "      <td>B</td>\n",
       "    </tr>\n",
       "    <tr>\n",
       "      <th>3</th>\n",
       "      <td>3</td>\n",
       "      <td>107</td>\n",
       "      <td>Henry</td>\n",
       "      <td>678 Spruce Ct</td>\n",
       "      <td>New York</td>\n",
       "      <td>Science</td>\n",
       "      <td>82.9</td>\n",
       "      <td>8</td>\n",
       "      <td>B</td>\n",
       "    </tr>\n",
       "    <tr>\n",
       "      <th>4</th>\n",
       "      <td>4</td>\n",
       "      <td>102</td>\n",
       "      <td>Alice</td>\n",
       "      <td>789 Pine Ln</td>\n",
       "      <td>Miami</td>\n",
       "      <td>Math</td>\n",
       "      <td>62.2</td>\n",
       "      <td>8</td>\n",
       "      <td>D</td>\n",
       "    </tr>\n",
       "  </tbody>\n",
       "</table>\n",
       "</div>"
      ],
      "text/plain": [
       "   Index  School ID     Name         Address      City  Subject  Marks  Rank  \\\n",
       "0      0        107      Ivy     456 Oak Ave  New York  History   86.1     8   \n",
       "1      1        108    Alice    555 Birch Dr   Houston  Science   96.1     7   \n",
       "2      2        105  Charlie  444 Cedar Blvd   Chicago  History   81.4     1   \n",
       "3      3        107    Henry   678 Spruce Ct  New York  Science   82.9     8   \n",
       "4      4        102    Alice     789 Pine Ln     Miami     Math   62.2     8   \n",
       "\n",
       "  Grade  \n",
       "0     B  \n",
       "1     D  \n",
       "2     B  \n",
       "3     B  \n",
       "4     D  "
      ]
     },
     "execution_count": 1,
     "metadata": {},
     "output_type": "execute_result"
    }
   ],
   "source": [
    "import pandas as pd\n",
    "\n",
    "# Load the dataset\n",
    "df = pd.read_csv(\"school_records.csv\")\n",
    "\n",
    "# Show first few rows to understand the data\n",
    "df.head()"
   ]
  },
  {
   "cell_type": "code",
   "execution_count": 2,
   "id": "b94ae552",
   "metadata": {},
   "outputs": [
    {
     "name": "stdout",
     "output_type": "stream",
     "text": [
      "Index        0\n",
      "School ID    0\n",
      "Name         0\n",
      "Address      0\n",
      "City         0\n",
      "Subject      0\n",
      "Marks        1\n",
      "Rank         0\n",
      "Grade        0\n",
      "dtype: int64\n"
     ]
    }
   ],
   "source": [
    "print(df.isnull().sum())"
   ]
  },
  {
   "cell_type": "code",
   "execution_count": 3,
   "id": "ceebb7f5",
   "metadata": {},
   "outputs": [
    {
     "name": "stdout",
     "output_type": "stream",
     "text": [
      "Index          int64\n",
      "School ID      int64\n",
      "Name          object\n",
      "Address       object\n",
      "City          object\n",
      "Subject       object\n",
      "Marks        float64\n",
      "Rank           int64\n",
      "Grade         object\n",
      "dtype: object\n"
     ]
    }
   ],
   "source": [
    "print(df.dtypes)"
   ]
  },
  {
   "cell_type": "code",
   "execution_count": 4,
   "id": "22cb4727",
   "metadata": {},
   "outputs": [],
   "source": [
    "df['Marks'] = pd.to_numeric(df['Marks'], errors='coerce')"
   ]
  },
  {
   "cell_type": "code",
   "execution_count": 5,
   "id": "f1e482c7",
   "metadata": {},
   "outputs": [
    {
     "name": "stdout",
     "output_type": "stream",
     "text": [
      "Index          int64\n",
      "School ID      int64\n",
      "Name          object\n",
      "Address       object\n",
      "City          object\n",
      "Subject       object\n",
      "Marks        float64\n",
      "Rank           int64\n",
      "Grade         object\n",
      "dtype: object\n"
     ]
    }
   ],
   "source": [
    "print(df.dtypes)"
   ]
  },
  {
   "cell_type": "code",
   "execution_count": 6,
   "id": "132a07d5",
   "metadata": {},
   "outputs": [
    {
     "name": "stdout",
     "output_type": "stream",
     "text": [
      "Index        0\n",
      "School ID    0\n",
      "Name         0\n",
      "Address      0\n",
      "City         0\n",
      "Subject      0\n",
      "Marks        0\n",
      "Rank         0\n",
      "Grade        0\n",
      "dtype: int64\n"
     ]
    }
   ],
   "source": [
    "mean_marks = df['Marks'].mean()\n",
    "df['Marks'].fillna(mean_marks, inplace=True)\n",
    "\n",
    "df['Marks'] = df['Marks'].round(1)\n",
    "\n",
    "print(df.isnull().sum())"
   ]
  },
  {
   "cell_type": "code",
   "execution_count": 7,
   "id": "66f81bbe",
   "metadata": {},
   "outputs": [
    {
     "name": "stdout",
     "output_type": "stream",
     "text": [
      "['History' 'Science' 'Math' 'English']\n"
     ]
    }
   ],
   "source": [
    "df['Grade'] = df['Grade'].str.upper()\n",
    "\n",
    "print(df['Subject'].unique())"
   ]
  },
  {
   "cell_type": "code",
   "execution_count": 8,
   "id": "092a8c95",
   "metadata": {},
   "outputs": [],
   "source": [
    "df.to_csv(\"cleaned_school_records.csv\", index=False)"
   ]
  },
  {
   "cell_type": "code",
   "execution_count": 9,
   "id": "9eff1d4f",
   "metadata": {},
   "outputs": [
    {
     "data": {
      "text/html": [
       "<div>\n",
       "<style scoped>\n",
       "    .dataframe tbody tr th:only-of-type {\n",
       "        vertical-align: middle;\n",
       "    }\n",
       "\n",
       "    .dataframe tbody tr th {\n",
       "        vertical-align: top;\n",
       "    }\n",
       "\n",
       "    .dataframe thead th {\n",
       "        text-align: right;\n",
       "    }\n",
       "</style>\n",
       "<table border=\"1\" class=\"dataframe\">\n",
       "  <thead>\n",
       "    <tr style=\"text-align: right;\">\n",
       "      <th></th>\n",
       "      <th>Index</th>\n",
       "      <th>School ID</th>\n",
       "      <th>Name</th>\n",
       "      <th>Address</th>\n",
       "      <th>City</th>\n",
       "      <th>Subject</th>\n",
       "      <th>Marks</th>\n",
       "      <th>Rank</th>\n",
       "      <th>Grade</th>\n",
       "    </tr>\n",
       "  </thead>\n",
       "  <tbody>\n",
       "    <tr>\n",
       "      <th>0</th>\n",
       "      <td>0</td>\n",
       "      <td>107</td>\n",
       "      <td>Ivy</td>\n",
       "      <td>456 Oak Ave</td>\n",
       "      <td>New York</td>\n",
       "      <td>History</td>\n",
       "      <td>86.1</td>\n",
       "      <td>8</td>\n",
       "      <td>B</td>\n",
       "    </tr>\n",
       "    <tr>\n",
       "      <th>1</th>\n",
       "      <td>1</td>\n",
       "      <td>108</td>\n",
       "      <td>Alice</td>\n",
       "      <td>555 Birch Dr</td>\n",
       "      <td>Houston</td>\n",
       "      <td>Science</td>\n",
       "      <td>96.1</td>\n",
       "      <td>7</td>\n",
       "      <td>D</td>\n",
       "    </tr>\n",
       "    <tr>\n",
       "      <th>2</th>\n",
       "      <td>2</td>\n",
       "      <td>105</td>\n",
       "      <td>Charlie</td>\n",
       "      <td>444 Cedar Blvd</td>\n",
       "      <td>Chicago</td>\n",
       "      <td>History</td>\n",
       "      <td>81.4</td>\n",
       "      <td>1</td>\n",
       "      <td>B</td>\n",
       "    </tr>\n",
       "    <tr>\n",
       "      <th>3</th>\n",
       "      <td>3</td>\n",
       "      <td>107</td>\n",
       "      <td>Henry</td>\n",
       "      <td>678 Spruce Ct</td>\n",
       "      <td>New York</td>\n",
       "      <td>Science</td>\n",
       "      <td>82.9</td>\n",
       "      <td>8</td>\n",
       "      <td>B</td>\n",
       "    </tr>\n",
       "    <tr>\n",
       "      <th>4</th>\n",
       "      <td>4</td>\n",
       "      <td>102</td>\n",
       "      <td>Alice</td>\n",
       "      <td>789 Pine Ln</td>\n",
       "      <td>Miami</td>\n",
       "      <td>Math</td>\n",
       "      <td>62.2</td>\n",
       "      <td>8</td>\n",
       "      <td>D</td>\n",
       "    </tr>\n",
       "  </tbody>\n",
       "</table>\n",
       "</div>"
      ],
      "text/plain": [
       "   Index  School ID     Name         Address      City  Subject  Marks  Rank  \\\n",
       "0      0        107      Ivy     456 Oak Ave  New York  History   86.1     8   \n",
       "1      1        108    Alice    555 Birch Dr   Houston  Science   96.1     7   \n",
       "2      2        105  Charlie  444 Cedar Blvd   Chicago  History   81.4     1   \n",
       "3      3        107    Henry   678 Spruce Ct  New York  Science   82.9     8   \n",
       "4      4        102    Alice     789 Pine Ln     Miami     Math   62.2     8   \n",
       "\n",
       "  Grade  \n",
       "0     B  \n",
       "1     D  \n",
       "2     B  \n",
       "3     B  \n",
       "4     D  "
      ]
     },
     "execution_count": 9,
     "metadata": {},
     "output_type": "execute_result"
    }
   ],
   "source": [
    "df.head()"
   ]
  },
  {
   "cell_type": "code",
   "execution_count": null,
   "id": "2fff4a80",
   "metadata": {},
   "outputs": [],
   "source": []
  }
 ],
 "metadata": {
  "kernelspec": {
   "display_name": "Python 3 (ipykernel)",
   "language": "python",
   "name": "python3"
  },
  "language_info": {
   "codemirror_mode": {
    "name": "ipython",
    "version": 3
   },
   "file_extension": ".py",
   "mimetype": "text/x-python",
   "name": "python",
   "nbconvert_exporter": "python",
   "pygments_lexer": "ipython3",
   "version": "3.9.12"
  }
 },
 "nbformat": 4,
 "nbformat_minor": 5
}
